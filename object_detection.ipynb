{
 "cells": [
  {
   "cell_type": "markdown",
   "metadata": {},
   "source": [
    "# Object detection\n",
    "\n",
    "Object detection + segmentation using ultralytics [YOLO](https://github.com/ultralytics/ultralytics)"
   ]
  },
  {
   "cell_type": "code",
   "execution_count": 1,
   "metadata": {},
   "outputs": [],
   "source": [
    "import os\n",
    "import pickle\n",
    "\n",
    "from tqdm import tqdm\n",
    "from ultralytics import YOLO"
   ]
  },
  {
   "cell_type": "markdown",
   "metadata": {},
   "source": [
    "## Performing inference and storing predictions\n",
    "\n",
    "Predicting using weights of YOLO 11x for segmentation trained on [COCO's](https://cocodataset.org/#home) dataset."
   ]
  },
  {
   "cell_type": "code",
   "execution_count": 6,
   "metadata": {},
   "outputs": [
    {
     "name": "stderr",
     "output_type": "stream",
     "text": [
      "100%|██████████| 200/200 [00:06<00:00, 30.01it/s]\n"
     ]
    }
   ],
   "source": [
    "type = 'nat'\n",
    "\n",
    "model = YOLO('models/segmentation/yolo11x-seg.pt')\n",
    "model.to('cuda')\n",
    "\n",
    "image_files = [os.path.join(f'images/images_{type}', f) for f in os.listdir(f'images/images_{type}') if os.path.isfile(os.path.join(f'images/images_{type}', f))]\n",
    "\n",
    "results = {}\n",
    "\n",
    "empty_predictions = 0\n",
    "prediction_num = []\n",
    "detected_objects = []\n",
    "for image_file in tqdm(image_files, total=len(image_files)):\n",
    "    results[image_file[image_file.rfind('\\\\')+1:]] = model.predict(image_file, verbose=False)[0]\n",
    "\n",
    "    if len(results[image_file[image_file.rfind('\\\\')+1:]].boxes.cls) == 0:\n",
    "        empty_predictions += 1\n",
    "    else:\n",
    "        prediction_num.append(len(results[image_file[image_file.rfind('\\\\')+1:]].boxes.cls))\n",
    "\n",
    "    dect_objects = list(results[image_file[image_file.rfind('\\\\')+1:]].boxes.cls.cpu().numpy())\n",
    "    for obj in dect_objects:\n",
    "        if obj not in detected_objects:\n",
    "            detected_objects.append(obj)\n",
    "\n",
    "with open('predictions/saved_predictions.pkl', 'wb') as f:\n",
    "    pickle.dump(results, f)"
   ]
  },
  {
   "cell_type": "markdown",
   "metadata": {},
   "source": [
    "## Visualizing Results"
   ]
  },
  {
   "cell_type": "code",
   "execution_count": 5,
   "metadata": {},
   "outputs": [
    {
     "name": "stdout",
     "output_type": "stream",
     "text": [
      "Empty predictions: 81 (40.50%)\n",
      "Average number of predictions: 3.44\n",
      "Unique detected objects: 45\n"
     ]
    }
   ],
   "source": [
    "print(f'Empty predictions: {empty_predictions} ({empty_predictions / len(image_files) * 100:.2f}%)')\n",
    "print(f'Average number of predictions: {sum(prediction_num) / len(prediction_num):.2f}')\n",
    "print(f'Unique detected objects: {len(detected_objects)}')\n",
    "\n",
    "with open('predictions/saved_predictions.pkl', 'rb') as f:\n",
    "    results = pickle.load(f)\n",
    "\n",
    "results[list(results.keys())[4]].show()"
   ]
  }
 ],
 "metadata": {
  "kernelspec": {
   "display_name": "torchEnv",
   "language": "python",
   "name": "python3"
  },
  "language_info": {
   "codemirror_mode": {
    "name": "ipython",
    "version": 3
   },
   "file_extension": ".py",
   "mimetype": "text/x-python",
   "name": "python",
   "nbconvert_exporter": "python",
   "pygments_lexer": "ipython3",
   "version": "3.11.6"
  }
 },
 "nbformat": 4,
 "nbformat_minor": 2
}
