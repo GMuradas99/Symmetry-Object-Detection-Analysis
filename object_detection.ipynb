{
 "cells": [
  {
   "cell_type": "code",
   "execution_count": null,
   "metadata": {},
   "outputs": [],
   "source": [
    "import os\n",
    "import pickle\n",
    "\n",
    "from tqdm import tqdm\n",
    "from ultralytics import YOLO"
   ]
  },
  {
   "cell_type": "code",
   "execution_count": 29,
   "metadata": {},
   "outputs": [
    {
     "name": "stderr",
     "output_type": "stream",
     "text": [
      "100%|██████████| 200/200 [00:19<00:00, 10.00it/s]\n"
     ]
    }
   ],
   "source": [
    "model = YOLO('models/segmentation/yolo11x-seg.pt')\n",
    "model.to('cuda')\n",
    "\n",
    "image_files = [os.path.join('images/images_nat', f) for f in os.listdir('images/images_nat') if os.path.isfile(os.path.join('images/images_nat', f))]\n",
    "\n",
    "results = {}\n",
    "for image_file in tqdm(image_files, total=len(image_files)):\n",
    "    results[image_file] = model.predict(image_file, verbose=False)[0]\n",
    "\n",
    "with open('predictions/saved_predictions.pkl', 'wb') as f:\n",
    "    pickle.dump(results, f)"
   ]
  },
  {
   "cell_type": "code",
   "execution_count": 31,
   "metadata": {},
   "outputs": [
    {
     "data": {
      "text/plain": [
       "tensor([0.8746, 0.8432, 0.6261, 0.5854, 0.5012, 0.4977, 0.4692, 0.4581, 0.4579, 0.3121, 0.3086], device='cuda:0')"
      ]
     },
     "execution_count": 31,
     "metadata": {},
     "output_type": "execute_result"
    }
   ],
   "source": [
    "with open('predictions/saved_predictions.pkl, 'rb') as f:\n",
    "    results = pickle.load(f)"
   ]
  }
 ],
 "metadata": {
  "kernelspec": {
   "display_name": "torchEnv",
   "language": "python",
   "name": "python3"
  },
  "language_info": {
   "codemirror_mode": {
    "name": "ipython",
    "version": 3
   },
   "file_extension": ".py",
   "mimetype": "text/x-python",
   "name": "python",
   "nbconvert_exporter": "python",
   "pygments_lexer": "ipython3",
   "version": "3.11.6"
  }
 },
 "nbformat": 4,
 "nbformat_minor": 2
}
