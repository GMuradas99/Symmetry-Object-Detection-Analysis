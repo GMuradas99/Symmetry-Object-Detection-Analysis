{
 "cells": [
  {
   "cell_type": "markdown",
   "metadata": {},
   "source": [
    "# Object detection\n",
    "\n",
    "Object detection + segmentation using ultralytics [YOLO](https://github.com/ultralytics/ultralytics)"
   ]
  },
  {
   "cell_type": "code",
   "execution_count": 1,
   "metadata": {},
   "outputs": [],
   "source": [
    "import os\n",
    "import cv2\n",
    "import pickle\n",
    "import pandas as pd\n",
    "\n",
    "from tqdm import tqdm\n",
    "from ultralytics import YOLO"
   ]
  },
  {
   "cell_type": "markdown",
   "metadata": {},
   "source": [
    "## Performing inference and storing predictions\n",
    "\n",
    "Predicting using weights of YOLO 11x for segmentation trained on [COCO's](https://cocodataset.org/#home) dataset."
   ]
  },
  {
   "cell_type": "code",
   "execution_count": 2,
   "metadata": {},
   "outputs": [],
   "source": [
    "model = YOLO('models/segmentation/yolo11x-seg.pt')\n",
    "model.to('cuda')\n",
    "\n",
    "predict = False\n",
    "\n",
    "if predict:\n",
    "    results = {}\n",
    "    type = 'nat'\n",
    "    image_files = [os.path.join(f'images/images_{type}', f) for f in os.listdir(f'images/images_{type}') if os.path.isfile(os.path.join(f'images/images_{type}', f))]\n",
    "    for image_file in tqdm(image_files, total=len(image_files)):\n",
    "        results[image_file[image_file.rfind('\\\\')+1:]] = model.predict(image_file, verbose=False)[0]\n",
    "\n",
    "    results_art = {}\n",
    "    type = 'art'\n",
    "    image_files = [os.path.join(f'images/images_{type}', f) for f in os.listdir(f'images/images_{type}') if os.path.isfile(os.path.join(f'images/images_{type}', f))]\n",
    "    for image_file in tqdm(image_files, total=len(image_files)):\n",
    "        results_art[image_file[image_file.rfind('\\\\')+1:]] = model.predict(image_file, verbose=False)[0]\n",
    "\n",
    "    results.update(results_art)\n",
    "\n",
    "    with open('predictions/saved_predictions.pkl', 'wb') as f:\n",
    "        pickle.dump(results, f)"
   ]
  },
  {
   "cell_type": "markdown",
   "metadata": {},
   "source": [
    "## Visualizing Results"
   ]
  },
  {
   "cell_type": "code",
   "execution_count": 22,
   "metadata": {},
   "outputs": [],
   "source": [
    "with open('predictions/saved_predictions.pkl', 'rb') as f:\n",
    "    results = pickle.load(f)\n",
    "\n",
    "results[list(results.keys())[16]].show()"
   ]
  },
  {
   "cell_type": "markdown",
   "metadata": {},
   "source": [
    "# Saving Object detection stats\n",
    "\n",
    "## Stats per Image"
   ]
  },
  {
   "cell_type": "code",
   "execution_count": 5,
   "metadata": {},
   "outputs": [
    {
     "name": "stderr",
     "output_type": "stream",
     "text": [
      "100%|██████████| 400/400 [00:02<00:00, 136.45it/s]\n"
     ]
    }
   ],
   "source": [
    "image_files = []\n",
    "num_predictions = []\n",
    "detected_objects = empty_lists = [[] for _ in range(80)]\n",
    "\n",
    "for image_file, predictions in tqdm(results.items()):\n",
    "    image_files.append(image_file)\n",
    "    num_predictions.append(len(predictions.boxes.cls))\n",
    "    for i in range(80):\n",
    "        detected_objects[i].append(int(sum(predictions.boxes.cls == i)))\n",
    "\n",
    "dataframe_dict = {}\n",
    "dataframe_dict['image_file'] = image_files\n",
    "dataframe_dict['num_predictions'] = num_predictions\n",
    "class_names = results[list(results.keys())[0]].names\n",
    "for i in range(80):\n",
    "    dataframe_dict[class_names[i]] = detected_objects[i]\n",
    "\n",
    "df = pd.DataFrame(dataframe_dict)\n",
    "df.to_csv('data_out/object_detection/objects_per_image.csv', index=False)"
   ]
  },
  {
   "cell_type": "code",
   "execution_count": 49,
   "metadata": {},
   "outputs": [
    {
     "data": {
      "text/plain": [
       "array([[          0,           0,           0, ...,           0,           0,           0],\n",
       "       [          0,           0,           0, ...,           0,           0,           0],\n",
       "       [          0,           0,           0, ...,           0,           0,           0],\n",
       "       ...,\n",
       "       [          0,           0,           0, ...,           0,           0,           0],\n",
       "       [          0,           0,           0, ...,           0,           0,           0],\n",
       "       [          0,           0,           0, ...,           0,           0,           0]], dtype=float32)"
      ]
     },
     "execution_count": 49,
     "metadata": {},
     "output_type": "execute_result"
    }
   ],
   "source": [
    "#AADB - farm1_268_19534013654_50c879f919_b.jpg\n",
    "\n",
    "\n",
    "results['VIU - image_r_772.jpg'].masks.data[0].cpu().numpy()\n"
   ]
  },
  {
   "cell_type": "markdown",
   "metadata": {},
   "source": [
    "## Stats per Object"
   ]
  },
  {
   "cell_type": "code",
   "execution_count": 58,
   "metadata": {},
   "outputs": [
    {
     "name": "stderr",
     "output_type": "stream",
     "text": [
      "100%|██████████| 400/400 [00:00<00:00, 450.40it/s]\n"
     ]
    },
    {
     "data": {
      "text/html": [
       "<div>\n",
       "<style scoped>\n",
       "    .dataframe tbody tr th:only-of-type {\n",
       "        vertical-align: middle;\n",
       "    }\n",
       "\n",
       "    .dataframe tbody tr th {\n",
       "        vertical-align: top;\n",
       "    }\n",
       "\n",
       "    .dataframe thead th {\n",
       "        text-align: right;\n",
       "    }\n",
       "</style>\n",
       "<table border=\"1\" class=\"dataframe\">\n",
       "  <thead>\n",
       "    <tr style=\"text-align: right;\">\n",
       "      <th></th>\n",
       "      <th>image_file</th>\n",
       "      <th>object_id</th>\n",
       "      <th>object_class</th>\n",
       "      <th>confidence_score</th>\n",
       "      <th>object_area</th>\n",
       "    </tr>\n",
       "  </thead>\n",
       "  <tbody>\n",
       "    <tr>\n",
       "      <th>0</th>\n",
       "      <td>AADB - farm1_260_20156759346_a5ab2f2a78_b.jpg</td>\n",
       "      <td>0</td>\n",
       "      <td>chair</td>\n",
       "      <td>0.874608</td>\n",
       "      <td>2130</td>\n",
       "    </tr>\n",
       "    <tr>\n",
       "      <th>1</th>\n",
       "      <td>AADB - farm1_260_20156759346_a5ab2f2a78_b.jpg</td>\n",
       "      <td>1</td>\n",
       "      <td>chair</td>\n",
       "      <td>0.843225</td>\n",
       "      <td>2004</td>\n",
       "    </tr>\n",
       "    <tr>\n",
       "      <th>2</th>\n",
       "      <td>AADB - farm1_260_20156759346_a5ab2f2a78_b.jpg</td>\n",
       "      <td>2</td>\n",
       "      <td>dining table</td>\n",
       "      <td>0.626132</td>\n",
       "      <td>4796</td>\n",
       "    </tr>\n",
       "    <tr>\n",
       "      <th>3</th>\n",
       "      <td>AADB - farm1_260_20156759346_a5ab2f2a78_b.jpg</td>\n",
       "      <td>3</td>\n",
       "      <td>chair</td>\n",
       "      <td>0.585403</td>\n",
       "      <td>1010</td>\n",
       "    </tr>\n",
       "    <tr>\n",
       "      <th>4</th>\n",
       "      <td>AADB - farm1_260_20156759346_a5ab2f2a78_b.jpg</td>\n",
       "      <td>4</td>\n",
       "      <td>chair</td>\n",
       "      <td>0.501245</td>\n",
       "      <td>478</td>\n",
       "    </tr>\n",
       "    <tr>\n",
       "      <th>...</th>\n",
       "      <td>...</td>\n",
       "      <td>...</td>\n",
       "      <td>...</td>\n",
       "      <td>...</td>\n",
       "      <td>...</td>\n",
       "    </tr>\n",
       "    <tr>\n",
       "      <th>1031</th>\n",
       "      <td>nicolae-darascu_still-life-with-pumpkin.jpg</td>\n",
       "      <td>4</td>\n",
       "      <td>orange</td>\n",
       "      <td>0.367205</td>\n",
       "      <td>4158</td>\n",
       "    </tr>\n",
       "    <tr>\n",
       "      <th>1032</th>\n",
       "      <td>pablo-picasso_geometrical-composition-the-guit...</td>\n",
       "      <td>0</td>\n",
       "      <td>tie</td>\n",
       "      <td>0.346885</td>\n",
       "      <td>12381</td>\n",
       "    </tr>\n",
       "    <tr>\n",
       "      <th>1033</th>\n",
       "      <td>patrick-caulfield_the-letter-1967.jpg</td>\n",
       "      <td>0</td>\n",
       "      <td>kite</td>\n",
       "      <td>0.461603</td>\n",
       "      <td>24147</td>\n",
       "    </tr>\n",
       "    <tr>\n",
       "      <th>1034</th>\n",
       "      <td>yves-gaucher_danse-carr-e-once-upon-a-square-1...</td>\n",
       "      <td>0</td>\n",
       "      <td>clock</td>\n",
       "      <td>0.551528</td>\n",
       "      <td>125706</td>\n",
       "    </tr>\n",
       "    <tr>\n",
       "      <th>1035</th>\n",
       "      <td>yves-gaucher_danse-carr-e-once-upon-a-square-1...</td>\n",
       "      <td>1</td>\n",
       "      <td>stop sign</td>\n",
       "      <td>0.298560</td>\n",
       "      <td>125758</td>\n",
       "    </tr>\n",
       "  </tbody>\n",
       "</table>\n",
       "<p>1036 rows × 5 columns</p>\n",
       "</div>"
      ],
      "text/plain": [
       "                                             image_file  object_id  \\\n",
       "0         AADB - farm1_260_20156759346_a5ab2f2a78_b.jpg          0   \n",
       "1         AADB - farm1_260_20156759346_a5ab2f2a78_b.jpg          1   \n",
       "2         AADB - farm1_260_20156759346_a5ab2f2a78_b.jpg          2   \n",
       "3         AADB - farm1_260_20156759346_a5ab2f2a78_b.jpg          3   \n",
       "4         AADB - farm1_260_20156759346_a5ab2f2a78_b.jpg          4   \n",
       "...                                                 ...        ...   \n",
       "1031        nicolae-darascu_still-life-with-pumpkin.jpg          4   \n",
       "1032  pablo-picasso_geometrical-composition-the-guit...          0   \n",
       "1033              patrick-caulfield_the-letter-1967.jpg          0   \n",
       "1034  yves-gaucher_danse-carr-e-once-upon-a-square-1...          0   \n",
       "1035  yves-gaucher_danse-carr-e-once-upon-a-square-1...          1   \n",
       "\n",
       "      object_class  confidence_score  object_area  \n",
       "0            chair          0.874608         2130  \n",
       "1            chair          0.843225         2004  \n",
       "2     dining table          0.626132         4796  \n",
       "3            chair          0.585403         1010  \n",
       "4            chair          0.501245          478  \n",
       "...            ...               ...          ...  \n",
       "1031        orange          0.367205         4158  \n",
       "1032           tie          0.346885        12381  \n",
       "1033          kite          0.461603        24147  \n",
       "1034         clock          0.551528       125706  \n",
       "1035     stop sign          0.298560       125758  \n",
       "\n",
       "[1036 rows x 5 columns]"
      ]
     },
     "execution_count": 58,
     "metadata": {},
     "output_type": "execute_result"
    }
   ],
   "source": [
    "images = []\n",
    "object_ids = []\n",
    "object_classes = []\n",
    "confidence_scores = []\n",
    "object_areas = []\n",
    "\n",
    "import matplotlib.pyplot as plt\n",
    "\n",
    "for image_file, predictions in tqdm(results.items()):\n",
    "    # Images with no predictions\n",
    "    if predictions.masks is None:\n",
    "        continue\n",
    "\n",
    "    for i in range(len(predictions.boxes.cls)):\n",
    "        images.append(image_file)\n",
    "        object_ids.append(i)\n",
    "        object_classes.append(predictions.names[int(predictions.boxes.cls[i])])\n",
    "        confidence_scores.append(float(predictions.boxes.conf[i]))\n",
    "\n",
    "        # Getting mask area\n",
    "\n",
    "        mask = predictions.masks[i].data.cpu().numpy()[0]\n",
    "        mask = cv2.resize(mask, (predictions.orig_shape[1], predictions.orig_shape[0]))\n",
    "        object_areas.append(cv2.countNonZero(mask))\n",
    "\n",
    "\n",
    "dataframe_dict = {\n",
    "    'image_file': images,\n",
    "    'object_id': object_ids,\n",
    "    'object_class': object_classes,\n",
    "    'confidence_score': confidence_scores,\n",
    "    'object_area': object_areas\n",
    "}\n",
    "\n",
    "df = pd.DataFrame(dataframe_dict)\n",
    "df.to_csv('data_out/object_detection/detected_object_data.csv', index=False)\n",
    "df"
   ]
  }
 ],
 "metadata": {
  "kernelspec": {
   "display_name": "torchEnv",
   "language": "python",
   "name": "python3"
  },
  "language_info": {
   "codemirror_mode": {
    "name": "ipython",
    "version": 3
   },
   "file_extension": ".py",
   "mimetype": "text/x-python",
   "name": "python",
   "nbconvert_exporter": "python",
   "pygments_lexer": "ipython3",
   "version": "3.11.6"
  }
 },
 "nbformat": 4,
 "nbformat_minor": 2
}
